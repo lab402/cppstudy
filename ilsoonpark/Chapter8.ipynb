{
 "cells": [
  {
   "cell_type": "markdown",
   "metadata": {},
   "source": [
    "#. Class 내의 static 변수들은 여러 객체들이 공유해서 사용하게 된다.\n",
    "#. 이 경우에는 객체가 아닌 클래스명으로 변수에 접근이 가능하다\n",
    "#. ex) int Chulsoo :: chulsooPrivateCounter = 0;"
   ]
  },
  {
   "cell_type": "code",
   "execution_count": 1,
   "metadata": {},
   "outputs": [
    {
     "name": "stderr",
     "output_type": "stream",
     "text": [
      "\u001b[1minput_line_8:6:16: \u001b[0m\u001b[0;1;31merror: \u001b[0m\u001b[1mstatic data member 'sharevariable' not allowed in local class 'Chulsoo'\u001b[0m\n",
      "    static int sharevariable;\n",
      "\u001b[0;1;32m               ^\n",
      "\u001b[0m\u001b[1minput_line_8:8:16: \u001b[0m\u001b[0;1;31merror: \u001b[0m\u001b[1mstatic data member 'sharedprotectedvariable' not allowed in local class 'Chulsoo'\u001b[0m\n",
      "    static int sharedprotectedvariable;\n",
      "\u001b[0;1;32m               ^\n",
      "\u001b[0m"
     ]
    },
    {
     "ename": "Interpreter Error",
     "evalue": "",
     "output_type": "error",
     "traceback": [
      "Interpreter Error: "
     ]
    }
   ],
   "source": [
    "#include <iostream>\n",
    "using namespace std;\n",
    "class Chulsoo{\n",
    "    private : \n",
    "    int age;\n",
    "    static int sharevariable;\n",
    "    protected:\n",
    "    static int sharedprotectedvariable;\n",
    "    public:\n",
    "    Chulsoo(int age):age(age){\n",
    "        sharevariable++;\n",
    "        sharedprotectedvariable++;\n",
    "    }\n",
    "};\n",
    "int Chulsoo :: sharevariable = 100;\n",
    "int Chulsoo :: sharedprotectedvariable = 100;"
   ]
  },
  {
   "cell_type": "markdown",
   "metadata": {},
   "source": [
    "#. 이 코드는 안돌아간다."
   ]
  },
  {
   "cell_type": "code",
   "execution_count": 1,
   "metadata": {},
   "outputs": [],
   "source": [
    "#include <iostream>\n",
    "using namespace std;\n",
    "\n",
    "class Chulsoo{\n",
    "    private :\n",
    "    int age;\n",
    "    public:\n",
    "    Chulsoo(int age){\n",
    "        this-> age = age;\n",
    "        cout<<\"Chulsoo ::Chulsoo(age) 생성자 완료\"<<endl;\n",
    "    }\n",
    "    void setAge(int age){\n",
    "        this->age = age;\n",
    "    }\n",
    "    void introduce(){\n",
    "        cout<<\"철수의 나이는\"<<age<<\"세 입니다\"<<endl;\n",
    "    }\n",
    "    Chulsoo * returnThisPointer(){\n",
    "        return this;\n",
    "    }\n",
    "    Chulsoo returnThis(){\n",
    "        return *this;\n",
    "    }\n",
    "    Chulsoo& returnThisRef(){\n",
    "        return *this;\n",
    "    } \n",
    "};"
   ]
  },
  {
   "cell_type": "code",
   "execution_count": 2,
   "metadata": {},
   "outputs": [],
   "source": [
    "int Semulator(void){\n",
    "    Chulsoo chulsoo_1(10);\n",
    "    chulsoo_1.introduce();\n",
    "    chulsoo_1.setAge(50);\n",
    "    chulsoo_1.introduce();\n",
    "    \n",
    "    Chulsoo chulsoo_2(20);\n",
    "    chulsoo_2.returnThisPointer()->introduce();\n",
    "    chulsoo_2.returnThisPointer()->setAge(50);\n",
    "    chulsoo_2.returnThisPointer()->introduce();\n",
    "    \n",
    "    Chulsoo chulsoo_3(30);\n",
    "    chulsoo_3.returnThis().introduce();\n",
    "    chulsoo_3.returnThis().setAge(50);\n",
    "    chulsoo_3.returnThis().introduce();\n",
    "    \n",
    "    Chulsoo chulsoo_4(40);\n",
    "    chulsoo_4.returnThisRef().introduce();\n",
    "    chulsoo_4.returnThisRef().setAge(50);\n",
    "    chulsoo_4.returnThisRef().introduce();\n",
    "    \n",
    "    return 0;\n",
    "    \n",
    "}"
   ]
  },
  {
   "cell_type": "code",
   "execution_count": 3,
   "metadata": {},
   "outputs": [
    {
     "name": "stdout",
     "output_type": "stream",
     "text": [
      "Chulsoo ::Chulsoo(age) 생성자 완료\n",
      "철수의 나이는10세 입니다\n",
      "철수의 나이는50세 입니다\n",
      "Chulsoo ::Chulsoo(age) 생성자 완료\n",
      "철수의 나이는20세 입니다\n",
      "철수의 나이는50세 입니다\n",
      "Chulsoo ::Chulsoo(age) 생성자 완료\n",
      "철수의 나이는30세 입니다\n",
      "철수의 나이는30세 입니다\n",
      "Chulsoo ::Chulsoo(age) 생성자 완료\n",
      "철수의 나이는40세 입니다\n",
      "철수의 나이는50세 입니다\n"
     ]
    }
   ],
   "source": [
    "Semulator();"
   ]
  },
  {
   "cell_type": "markdown",
   "metadata": {},
   "source": [
    "#.This 는 Class 의 포인터 형태이다. \n",
    "#. 따라서 Chulsoo* 를 리턴하는 함수를 사용시에 this 이 정상적으로 리턴된다.\n",
    "#. This 이해가 안됨.."
   ]
  }
 ],
 "metadata": {
  "kernelspec": {
   "display_name": "C++11",
   "language": "C++11",
   "name": "xeus-cling-cpp11"
  },
  "language_info": {
   "codemirror_mode": "text/x-c++src",
   "file_extension": ".cpp",
   "mimetype": "text/x-c++src",
   "name": "c++",
   "version": "11"
  }
 },
 "nbformat": 4,
 "nbformat_minor": 2
}
