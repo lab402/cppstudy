{
 "cells": [
  {
   "cell_type": "code",
   "execution_count": 1,
   "metadata": {},
   "outputs": [],
   "source": [
    "#include <iostream>\n",
    "using namespace std;"
   ]
  },
  {
   "cell_type": "code",
   "execution_count": 2,
   "metadata": {},
   "outputs": [],
   "source": [
    "class Chulsoo{\n",
    "    public:\n",
    "    void Eat(int SteakWeight);\n",
    "    inline void EatInline(int SteakWeight);\n",
    "};"
   ]
  },
  {
   "cell_type": "code",
   "execution_count": 5,
   "metadata": {},
   "outputs": [],
   "source": [
    "int Sub(void){\n",
    "    Chulsoo chulsoo;\n",
    "    chulsoo.Eat(500);\n",
    "    chulsoo.EatInline(1000);\n",
    "    return 0;\n",
    "}"
   ]
  },
  {
   "cell_type": "code",
   "execution_count": 3,
   "metadata": {},
   "outputs": [],
   "source": [
    "void Chulsoo::Eat(int SteakWeight){\n",
    "    cout<<\"Eat()::철수는\"<<SteakWeight<<\"g짜리 스테이크를 먹는다\"<<endl;\n",
    "}"
   ]
  },
  {
   "cell_type": "code",
   "execution_count": 4,
   "metadata": {},
   "outputs": [],
   "source": [
    "inline void Chulsoo::EatInline(int SteakWeight){\n",
    "    cout<<\"EarInline()::철수는\"<<SteakWeight<<\"g짜리 스테이크를 먹는다\"<<endl;;\n",
    "}"
   ]
  },
  {
   "cell_type": "code",
   "execution_count": 6,
   "metadata": {},
   "outputs": [
    {
     "name": "stdout",
     "output_type": "stream",
     "text": [
      "Eat()::철수는500g짜리 스테이크를 먹는다\n",
      "EarInline()::철수는1000g짜리 스테이크를 먹는다\n"
     ]
    }
   ],
   "source": [
    "Sub();"
   ]
  },
  {
   "cell_type": "markdown",
   "metadata": {},
   "source": [
    "#inline 함수는 Compile 시 소스코드가 복 붙 된다  -> address상의 jump 없이 수행된다.\n",
    "#궁금한점은 과연 inline 내 변수 명이 함수 내에 동일하게 있다면 어찌되는거지? -> asm으로 확인필요\n",
    "#lamda 는 이와 다르게 함수 취급한다함 따라 함수 포인터를 통해 주로 사용"
   ]
  },
  {
   "cell_type": "code",
   "execution_count": 2,
   "metadata": {},
   "outputs": [],
   "source": [
    "class ChulsooLambda{\n",
    "    public : \n",
    "    void eat(int SteakWeight);\n",
    "    inline void eatInline(int SteakWeight){\n",
    "        cout<<\"eatInline()::철수는\"<<SteakWeight<<\"g짜리 스테이크를 먹는다\"<<endl;\n",
    "    }\n",
    "}"
   ]
  },
  {
   "cell_type": "code",
   "execution_count": 3,
   "metadata": {},
   "outputs": [],
   "source": [
    "int Lambdamain(void){\n",
    "    ChulsooLambda chulsoolambda;\n",
    "    chulsoolambda.eat(1000);\n",
    "    chulsoolambda.eatInline(1000);\n",
    "    [](int steakWeight){cout<<\"eatLambda()::철수는\"<<steakWeight<<\"g짜리 스테이크를 먹는다\"<<endl;}(1000);\n",
    "    return 0;\n",
    "}"
   ]
  },
  {
   "cell_type": "code",
   "execution_count": 6,
   "metadata": {},
   "outputs": [],
   "source": [
    "void ChulsooLambda::eat(int steakWeight){\n",
    "    cout<<\"eat()::철수는 \"<<steakWeight<<\"g짜리 스테이크를 먹는다\"<<endl;\n",
    "}"
   ]
  },
  {
   "cell_type": "code",
   "execution_count": 7,
   "metadata": {},
   "outputs": [
    {
     "name": "stdout",
     "output_type": "stream",
     "text": [
      "eatInline()::철수는1000g짜리 스테이크를 먹는다\n",
      "eatLambda()::철수는1000g짜리 스테이크를 먹는다\n"
     ]
    }
   ],
   "source": [
    "Lambdamain();"
   ]
  },
  {
   "cell_type": "code",
   "execution_count": 2,
   "metadata": {},
   "outputs": [],
   "source": [
    "int Lambdatest(void){\n",
    "    [=](int Number){\n",
    "        for(;Number < 10 ; Number ++){\n",
    "            cout<<\"지금 수는\"<<Number<<\"입니다\"<<endl;\n",
    "        }(1);\n",
    "    };\n",
    "    cout<<\"돌긴도냐?\"<<endl;\n",
    "    return 0;\n",
    "}"
   ]
  },
  {
   "cell_type": "code",
   "execution_count": 3,
   "metadata": {},
   "outputs": [
    {
     "name": "stdout",
     "output_type": "stream",
     "text": [
      "돌긴도냐?\n"
     ]
    }
   ],
   "source": [
    "Lambdatest();"
   ]
  },
  {
   "cell_type": "code",
   "execution_count": null,
   "metadata": {},
   "outputs": [],
   "source": []
  }
 ],
 "metadata": {
  "kernelspec": {
   "display_name": "C++11",
   "language": "C++11",
   "name": "xeus-cling-cpp11"
  },
  "language_info": {
   "codemirror_mode": "text/x-c++src",
   "file_extension": ".cpp",
   "mimetype": "text/x-c++src",
   "name": "c++",
   "version": "11"
  }
 },
 "nbformat": 4,
 "nbformat_minor": 2
}
