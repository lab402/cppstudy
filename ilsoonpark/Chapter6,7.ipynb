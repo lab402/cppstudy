{
 "cells": [
  {
   "cell_type": "markdown",
   "metadata": {},
   "source": [
    "#public Class의 안팍에서 모두 접근 가능함\n",
    "#private 클래스 내부 영역에서만 맴버에 접근할 수 있도록 한다. ( 자식 클래스 역시 접근 불가능)\n",
    "#protected 기본적으로 클래스 내부 영역에서만 접근이 가능하지만 상속관계에서 하위에서도 상위 클래스 맴버에 접근 가능\n",
    "#this 란 자기 자신을 말한다 ( 자기 자신 클래스 지칭어 )  \n",
    "#ex this -> name 본인 클래스의 맴버 변수 name 을 지칭하는 방법"
   ]
  },
  {
   "cell_type": "code",
   "execution_count": 2,
   "metadata": {},
   "outputs": [
    {
     "name": "stderr",
     "output_type": "stream",
     "text": [
      "\u001b[1minput_line_10:6:57: \u001b[0m\u001b[0;1;31merror: \u001b[0m\u001b[1mreference to overloaded function could not be resolved; did you mean to call it?\u001b[0m\n",
      "        cout<<\"mp3파일을 메모리에 올립니다\"<<endl;\n",
      "\u001b[0;1;32m                                             ^~~~\n",
      "\u001b[0m\u001b[1m/Users/develop/miniconda3/include/c++/v1/ostream:1001:1: \u001b[0m\u001b[0;1;30mnote: \u001b[0mpossible target for call\u001b[0m\n",
      "endl(basic_ostream<_CharT, _Traits>& __os)\n",
      "\u001b[0;1;32m^\n",
      "\u001b[0m\u001b[1m/Users/develop/miniconda3/include/c++/v1/ostream:220:20: \u001b[0m\u001b[0;1;30mnote: \u001b[0mcandidate function not viable: no overload of 'endl' matching 'const void *' for 1st argument\u001b[0m\n",
      "    basic_ostream& operator<<(const void* __p);\n",
      "\u001b[0;1;32m                   ^\n",
      "\u001b[0m\u001b[1m/Users/develop/miniconda3/include/c++/v1/ostream:200:20: \u001b[0m\u001b[0;1;30mnote: \u001b[0mcandidate function not viable: no overload of 'endl' matching 'basic_ios<std::__1::basic_ostream<char,\n",
      "      std::__1::char_traits<char> >::char_type, std::__1::basic_ostream<char, std::__1::char_traits<char>\n",
      "      >::traits_type> &(*)(basic_ios<std::__1::basic_ostream<char, std::__1::char_traits<char> >::char_type,\n",
      "      std::__1::basic_ostream<char, std::__1::char_traits<char> >::traits_type> &)' (aka 'basic_ios<char,\n",
      "      std::__1::char_traits<char> > &(*)(basic_ios<char, std::__1::char_traits<char> > &)') for 1st argument\u001b[0m\n",
      "    basic_ostream& operator<<(basic_ios<char_type, traits_type>&\n",
      "\u001b[0;1;32m                   ^\n",
      "\u001b[0m\u001b[1m/Users/develop/miniconda3/include/c++/v1/ostream:205:20: \u001b[0m\u001b[0;1;30mnote: \u001b[0mcandidate function not viable: no overload of 'endl' matching 'std::__1::ios_base &(*)(std::__1::ios_base &)' for\n",
      "      1st argument\u001b[0m\n",
      "    basic_ostream& operator<<(ios_base& (*__pf)(ios_base&))\n",
      "\u001b[0;1;32m                   ^\n",
      "\u001b[0m\u001b[1m/Users/develop/miniconda3/include/c++/v1/ostream:208:20: \u001b[0m\u001b[0;1;30mnote: \u001b[0mcandidate function not viable: no overload of 'endl' matching 'bool' for 1st argument\u001b[0m\n",
      "    basic_ostream& operator<<(bool __n);\n",
      "\u001b[0;1;32m                   ^\n",
      "\u001b[0m\u001b[1m/Users/develop/miniconda3/include/c++/v1/ostream:209:20: \u001b[0m\u001b[0;1;30mnote: \u001b[0mcandidate function not viable: no overload of 'endl' matching 'short' for 1st argument\u001b[0m\n",
      "    basic_ostream& operator<<(short __n);\n",
      "\u001b[0;1;32m                   ^\n",
      "\u001b[0m\u001b[1m/Users/develop/miniconda3/include/c++/v1/ostream:210:20: \u001b[0m\u001b[0;1;30mnote: \u001b[0mcandidate function not viable: no overload of 'endl' matching 'unsigned short' for 1st argument\u001b[0m\n",
      "    basic_ostream& operator<<(unsigned short __n);\n",
      "\u001b[0;1;32m                   ^\n",
      "\u001b[0m\u001b[1m/Users/develop/miniconda3/include/c++/v1/ostream:211:20: \u001b[0m\u001b[0;1;30mnote: \u001b[0mcandidate function not viable: no overload of 'endl' matching 'int' for 1st argument\u001b[0m\n",
      "    basic_ostream& operator<<(int __n);\n",
      "\u001b[0;1;32m                   ^\n",
      "\u001b[0m\u001b[1m/Users/develop/miniconda3/include/c++/v1/ostream:212:20: \u001b[0m\u001b[0;1;30mnote: \u001b[0mcandidate function not viable: no overload of 'endl' matching 'unsigned int' for 1st argument\u001b[0m\n",
      "    basic_ostream& operator<<(unsigned int __n);\n",
      "\u001b[0;1;32m                   ^\n",
      "\u001b[0m\u001b[1m/Users/develop/miniconda3/include/c++/v1/ostream:213:20: \u001b[0m\u001b[0;1;30mnote: \u001b[0mcandidate function not viable: no overload of 'endl' matching 'long' for 1st argument\u001b[0m\n",
      "    basic_ostream& operator<<(long __n);\n",
      "\u001b[0;1;32m                   ^\n",
      "\u001b[0m\u001b[1m/Users/develop/miniconda3/include/c++/v1/ostream:214:20: \u001b[0m\u001b[0;1;30mnote: \u001b[0mcandidate function not viable: no overload of 'endl' matching 'unsigned long' for 1st argument\u001b[0m\n",
      "    basic_ostream& operator<<(unsigned long __n);\n",
      "\u001b[0;1;32m                   ^\n",
      "\u001b[0m\u001b[1m/Users/develop/miniconda3/include/c++/v1/ostream:215:20: \u001b[0m\u001b[0;1;30mnote: \u001b[0mcandidate function not viable: no overload of 'endl' matching 'long long' for 1st argument\u001b[0m\n",
      "    basic_ostream& operator<<(long long __n);\n",
      "\u001b[0;1;32m                   ^\n",
      "\u001b[0m\u001b[1m/Users/develop/miniconda3/include/c++/v1/ostream:216:20: \u001b[0m\u001b[0;1;30mnote: \u001b[0mcandidate function not viable: no overload of 'endl' matching 'unsigned long long' for 1st argument\u001b[0m\n",
      "    basic_ostream& operator<<(unsigned long long __n);\n",
      "\u001b[0;1;32m                   ^\n",
      "\u001b[0m\u001b[1m/Users/develop/miniconda3/include/c++/v1/ostream:217:20: \u001b[0m\u001b[0;1;30mnote: \u001b[0mcandidate function not viable: no overload of 'endl' matching 'float' for 1st argument\u001b[0m\n",
      "    basic_ostream& operator<<(float __f);\n",
      "\u001b[0;1;32m                   ^\n",
      "\u001b[0m\u001b[1m/Users/develop/miniconda3/include/c++/v1/ostream:218:20: \u001b[0m\u001b[0;1;30mnote: \u001b[0mcandidate function not viable: no overload of 'endl' matching 'double' for 1st argument\u001b[0m\n",
      "    basic_ostream& operator<<(double __f);\n",
      "\u001b[0;1;32m                   ^\n",
      "\u001b[0m\u001b[1m/Users/develop/miniconda3/include/c++/v1/ostream:219:20: \u001b[0m\u001b[0;1;30mnote: \u001b[0mcandidate function not viable: no overload of 'endl' matching 'long double' for 1st argument\u001b[0m\n",
      "    basic_ostream& operator<<(long double __f);\n",
      "\u001b[0;1;32m                   ^\n",
      "\u001b[0m\u001b[1m/Users/develop/miniconda3/include/c++/v1/ostream:221:20: \u001b[0m\u001b[0;1;30mnote: \u001b[0mcandidate function not viable: no overload of 'endl' matching 'basic_streambuf<std::__1::basic_ostream<char,\n",
      "      std::__1::char_traits<char> >::char_type, std::__1::basic_ostream<char, std::__1::char_traits<char>\n",
      "      >::traits_type> *' (aka 'basic_streambuf<char, std::__1::char_traits<char> > *') for 1st argument\u001b[0m\n",
      "    basic_ostream& operator<<(basic_streambuf<char_type, traits_type>* __sb);\n",
      "\u001b[0;1;32m                   ^\n",
      "\u001b[0m\u001b[1m/Users/develop/miniconda3/include/c++/v1/ostream:750:1: \u001b[0m\u001b[0;1;30mnote: \u001b[0mcandidate function [with _CharT = char, _Traits = std::__1::char_traits<char>] not viable: no overload of 'endl'\n",
      "      matching 'char' for 2nd argument\u001b[0m\n",
      "operator<<(basic_ostream<_CharT, _Traits>& __os, _CharT __c)\n",
      "\u001b[0;1;32m^\n",
      "\u001b[0m\u001b[1m/Users/develop/miniconda3/include/c++/v1/ostream:757:1: \u001b[0m\u001b[0;1;30mnote: \u001b[0mcandidate function not viable: no overload of 'endl' matching 'char' for 2nd argument\u001b[0m\n",
      "operator<<(basic_ostream<_CharT, _Traits>& __os, char __cn)\n",
      "\u001b[0;1;32m^\n",
      "\u001b[0m\u001b[1m/Users/develop/miniconda3/include/c++/v1/ostream:790:1: \u001b[0m\u001b[0;1;30mnote: \u001b[0mcandidate function not viable: no overload of 'endl' matching 'char' for 2nd argument\u001b[0m\n",
      "operator<<(basic_ostream<char, _Traits>& __os, char __c)\n",
      "\u001b[0;1;32m^\n",
      "\u001b[0m\u001b[1m/Users/develop/miniconda3/include/c++/v1/ostream:797:1: \u001b[0m\u001b[0;1;30mnote: \u001b[0mcandidate function not viable: no overload of 'endl' matching 'signed char' for 2nd argument\u001b[0m\n",
      "operator<<(basic_ostream<char, _Traits>& __os, signed char __c)\n",
      "\u001b[0;1;32m^\n",
      "\u001b[0m\u001b[1m/Users/develop/miniconda3/include/c++/v1/ostream:804:1: \u001b[0m\u001b[0;1;30mnote: \u001b[0mcandidate function not viable: no overload of 'endl' matching 'unsigned char' for 2nd argument\u001b[0m\n",
      "operator<<(basic_ostream<char, _Traits>& __os, unsigned char __c)\n",
      "\u001b[0;1;32m^\n",
      "\u001b[0m\u001b[1m/Users/develop/miniconda3/include/c++/v1/ostream:811:1: \u001b[0m\u001b[0;1;30mnote: \u001b[0mcandidate function [with _CharT = char, _Traits = std::__1::char_traits<char>] not viable: no overload of 'endl'\n",
      "      matching 'const char *' for 2nd argument\u001b[0m\n",
      "operator<<(basic_ostream<_CharT, _Traits>& __os, const _CharT* __str)\n",
      "\u001b[0;1;32m^\n",
      "\u001b[0m\u001b[1m/Users/develop/miniconda3/include/c++/v1/ostream:818:1: \u001b[0m\u001b[0;1;30mnote: \u001b[0mcandidate function not viable: no overload of 'endl' matching 'const char *' for 2nd argument\u001b[0m\n",
      "operator<<(basic_ostream<_CharT, _Traits>& __os, const char* __strn)\n",
      "\u001b[0;1;32m^\n",
      "\u001b[0m\u001b[1m/Users/develop/miniconda3/include/c++/v1/ostream:864:1: \u001b[0m\u001b[0;1;30mnote: \u001b[0mcandidate function not viable: no overload of 'endl' matching 'const char *' for 2nd argument\u001b[0m\n",
      "operator<<(basic_ostream<char, _Traits>& __os, const char* __str)\n",
      "\u001b[0;1;32m^\n",
      "\u001b[0m\u001b[1m/Users/develop/miniconda3/include/c++/v1/ostream:871:1: \u001b[0m\u001b[0;1;30mnote: \u001b[0mcandidate function not viable: no overload of 'endl' matching 'const signed char *' for 2nd argument\u001b[0m\n",
      "operator<<(basic_ostream<char, _Traits>& __os, const signed char* __str)\n",
      "\u001b[0;1;32m^\n",
      "\u001b[0m\u001b[1m/Users/develop/miniconda3/include/c++/v1/ostream:879:1: \u001b[0m\u001b[0;1;30mnote: \u001b[0mcandidate function not viable: no overload of 'endl' matching 'const unsigned char *' for 2nd argument\u001b[0m\n",
      "operator<<(basic_ostream<char, _Traits>& __os, const unsigned char* __str)\n",
      "\u001b[0;1;32m^\n"
     ]
    },
    {
     "name": "stderr",
     "output_type": "stream",
     "text": [
      "\u001b[0m\u001b[1m/Users/develop/miniconda3/include/c++/v1/ostream:1054:1: \u001b[0m\u001b[0;1;30mnote: \u001b[0mcandidate function [with _CharT = char, _Traits = std::__1::char_traits<char>] not viable: no overload of 'endl'\n",
      "      matching 'const basic_string_view<char, std::__1::char_traits<char> >' for 2nd argument\u001b[0m\n",
      "operator<<(basic_ostream<_CharT, _Traits>& __os,\n",
      "\u001b[0;1;32m^\n",
      "\u001b[0m\u001b[1m/Users/develop/miniconda3/include/c++/v1/ostream:1063:1: \u001b[0m\u001b[0;1;30mnote: \u001b[0mcandidate function not viable: no overload of 'endl' matching 'const std::__1::error_code' for 2nd argument\u001b[0m\n",
      "operator<<(basic_ostream<_CharT, _Traits>& __os, const error_code& __ec)\n",
      "\u001b[0;1;32m^\n",
      "\u001b[0m\u001b[1m/Users/develop/miniconda3/include/c++/v1/iomanip:482:1: \u001b[0m\u001b[0;1;30mnote: \u001b[0mcandidate function [with _CharT = char, _Traits = std::__1::char_traits<char>] not viable: no overload of 'endl'\n",
      "      matching 'const __iom_t10<char>' for 2nd argument\u001b[0m\n",
      "operator<<(basic_ostream<_CharT, _Traits>& __os, const __iom_t10<_CharT>& __x)\n",
      "\u001b[0;1;32m^\n",
      "\u001b[0m\u001b[1m/Users/develop/miniconda3/include/c++/v1/ostream:1036:1: \u001b[0m\u001b[0;1;30mnote: \u001b[0mcandidate template ignored: couldn't infer template argument '_Tp'\u001b[0m\n",
      "operator<<(_Stream&& __os, const _Tp& __x)\n",
      "\u001b[0;1;32m^\n",
      "\u001b[0m\u001b[1m/Users/develop/miniconda3/include/c++/v1/ostream:1046:1: \u001b[0m\u001b[0;1;30mnote: \u001b[0mcandidate template ignored: couldn't infer template argument '_Allocator'\u001b[0m\n",
      "operator<<(basic_ostream<_CharT, _Traits>& __os,\n",
      "\u001b[0;1;32m^\n",
      "\u001b[0m\u001b[1m/Users/develop/miniconda3/include/c++/v1/ostream:1071:1: \u001b[0m\u001b[0;1;30mnote: \u001b[0mcandidate template ignored: couldn't infer template argument '_Yp'\u001b[0m\n",
      "operator<<(basic_ostream<_CharT, _Traits>& __os, shared_ptr<_Yp> const& __p)\n",
      "\u001b[0;1;32m^\n",
      "\u001b[0m\u001b[1m/Users/develop/miniconda3/include/c++/v1/ostream:1078:1: \u001b[0m\u001b[0;1;30mnote: \u001b[0mcandidate template ignored: couldn't infer template argument '_Size'\u001b[0m\n",
      "operator<<(basic_ostream<_CharT, _Traits>& __os, const bitset<_Size>& __x)\n",
      "\u001b[0;1;32m^\n",
      "\u001b[0m\u001b[1m/Users/develop/miniconda3/include/c++/v1/valarray:4105:1: \u001b[0m\u001b[0;1;30mnote: \u001b[0mcandidate template ignored: couldn't infer template argument '_Expr2'\u001b[0m\n",
      "operator<<(const _Expr1& __x, const _Expr2& __y)\n",
      "\u001b[0;1;32m^\n",
      "\u001b[0m\u001b[1m/Users/develop/miniconda3/include/c++/v1/valarray:4136:1: \u001b[0m\u001b[0;1;30mnote: \u001b[0mcandidate template ignored: couldn't infer template argument '_Expr'\u001b[0m\n",
      "operator<<(const typename _Expr::value_type& __x, const _Expr& __y)\n",
      "\u001b[0;1;32m^\n",
      "\u001b[0m\u001b[1m/Users/develop/miniconda3/include/c++/v1/iomanip:362:1: \u001b[0m\u001b[0;1;30mnote: \u001b[0mcandidate template ignored: couldn't infer template argument '_MoneyT'\u001b[0m\n",
      "operator<<(basic_ostream<_CharT, _Traits>& __os, const __iom_t8<_MoneyT>& __x)\n",
      "\u001b[0;1;32m^\n",
      "\u001b[0m\u001b[1m/Users/develop/miniconda3/include/c++/v1/iomanip:572:33: \u001b[0m\u001b[0;1;30mnote: \u001b[0mcandidate template ignored: couldn't infer template argument '_Iter'\u001b[0m\n",
      "basic_ostream<_CharT, _Traits>& operator<<(\n",
      "\u001b[0;1;32m                                ^\n",
      "\u001b[0m\u001b[1m/Users/develop/miniconda3/include/c++/v1/iomanip:592:33: \u001b[0m\u001b[0;1;30mnote: \u001b[0mcandidate template ignored: couldn't infer template argument '_Allocator'\u001b[0m\n",
      "basic_ostream<_CharT, _Traits>& operator<<(\n",
      "\u001b[0;1;32m                                ^\n",
      "\u001b[0m\u001b[1m/Users/develop/miniconda3/include/c++/v1/valarray:4120:1: \u001b[0m\u001b[0;1;30mnote: \u001b[0mcandidate template ignored: substitution failure [with _Expr = std::__1::basic_ostream<char>]: no type named\n",
      "      'value_type' in 'std::__1::basic_ostream<char>'\u001b[0m\n",
      "operator<<(const _Expr& __x, const typename _Expr::value_type& __y)\n",
      "\u001b[0;1;32m^\n",
      "\u001b[0m\u001b[1minput_line_10:12:65: \u001b[0m\u001b[0;1;31merror: \u001b[0m\u001b[1mreference to overloaded function could not be resolved; did you mean to call it?\u001b[0m\n",
      "        cout<<\"mp3 player 을 위한 Power를 공급합니다\"<<endl;\n",
      "\u001b[0;1;32m                                                       ^~~~\n",
      "\u001b[0m\u001b[1m/Users/develop/miniconda3/include/c++/v1/ostream:1001:1: \u001b[0m\u001b[0;1;30mnote: \u001b[0mpossible target for call\u001b[0m\n",
      "endl(basic_ostream<_CharT, _Traits>& __os)\n",
      "\u001b[0;1;32m^\n",
      "\u001b[0m\u001b[1m/Users/develop/miniconda3/include/c++/v1/ostream:220:20: \u001b[0m\u001b[0;1;30mnote: \u001b[0mcandidate function not viable: no overload of 'endl' matching 'const void *' for 1st argument\u001b[0m\n",
      "    basic_ostream& operator<<(const void* __p);\n",
      "\u001b[0;1;32m                   ^\n",
      "\u001b[0m\u001b[1m/Users/develop/miniconda3/include/c++/v1/ostream:200:20: \u001b[0m\u001b[0;1;30mnote: \u001b[0mcandidate function not viable: no overload of 'endl' matching 'basic_ios<std::__1::basic_ostream<char,\n",
      "      std::__1::char_traits<char> >::char_type, std::__1::basic_ostream<char, std::__1::char_traits<char>\n",
      "      >::traits_type> &(*)(basic_ios<std::__1::basic_ostream<char, std::__1::char_traits<char> >::char_type,\n",
      "      std::__1::basic_ostream<char, std::__1::char_traits<char> >::traits_type> &)' (aka 'basic_ios<char,\n",
      "      std::__1::char_traits<char> > &(*)(basic_ios<char, std::__1::char_traits<char> > &)') for 1st argument\u001b[0m\n",
      "    basic_ostream& operator<<(basic_ios<char_type, traits_type>&\n",
      "\u001b[0;1;32m                   ^\n",
      "\u001b[0m\u001b[1m/Users/develop/miniconda3/include/c++/v1/ostream:205:20: \u001b[0m\u001b[0;1;30mnote: \u001b[0mcandidate function not viable: no overload of 'endl' matching 'std::__1::ios_base &(*)(std::__1::ios_base &)' for\n",
      "      1st argument\u001b[0m\n",
      "    basic_ostream& operator<<(ios_base& (*__pf)(ios_base&))\n",
      "\u001b[0;1;32m                   ^\n",
      "\u001b[0m\u001b[1m/Users/develop/miniconda3/include/c++/v1/ostream:208:20: \u001b[0m\u001b[0;1;30mnote: \u001b[0mcandidate function not viable: no overload of 'endl' matching 'bool' for 1st argument\u001b[0m\n",
      "    basic_ostream& operator<<(bool __n);\n",
      "\u001b[0;1;32m                   ^\n",
      "\u001b[0m\u001b[1m/Users/develop/miniconda3/include/c++/v1/ostream:209:20: \u001b[0m\u001b[0;1;30mnote: \u001b[0mcandidate function not viable: no overload of 'endl' matching 'short' for 1st argument\u001b[0m\n",
      "    basic_ostream& operator<<(short __n);\n",
      "\u001b[0;1;32m                   ^\n",
      "\u001b[0m\u001b[1m/Users/develop/miniconda3/include/c++/v1/ostream:210:20: \u001b[0m\u001b[0;1;30mnote: \u001b[0mcandidate function not viable: no overload of 'endl' matching 'unsigned short' for 1st argument\u001b[0m\n",
      "    basic_ostream& operator<<(unsigned short __n);\n",
      "\u001b[0;1;32m                   ^\n",
      "\u001b[0m\u001b[1m/Users/develop/miniconda3/include/c++/v1/ostream:211:20: \u001b[0m\u001b[0;1;30mnote: \u001b[0mcandidate function not viable: no overload of 'endl' matching 'int' for 1st argument\u001b[0m\n",
      "    basic_ostream& operator<<(int __n);\n",
      "\u001b[0;1;32m                   ^\n",
      "\u001b[0m\u001b[1m/Users/develop/miniconda3/include/c++/v1/ostream:212:20: \u001b[0m\u001b[0;1;30mnote: \u001b[0mcandidate function not viable: no overload of 'endl' matching 'unsigned int' for 1st argument\u001b[0m\n",
      "    basic_ostream& operator<<(unsigned int __n);\n",
      "\u001b[0;1;32m                   ^\n",
      "\u001b[0m\u001b[1m/Users/develop/miniconda3/include/c++/v1/ostream:213:20: \u001b[0m\u001b[0;1;30mnote: \u001b[0mcandidate function not viable: no overload of 'endl' matching 'long' for 1st argument\u001b[0m\n",
      "    basic_ostream& operator<<(long __n);\n",
      "\u001b[0;1;32m                   ^\n",
      "\u001b[0m\u001b[1m/Users/develop/miniconda3/include/c++/v1/ostream:214:20: "
     ]
    }
   ],
   "source": [
    "#include <iostream>\n",
    "using namespace std;\n",
    "class File{\n",
    "    public : \n",
    "    void loader(){\n",
    "        cout<<\"mp3파일을 메모리에 올립니다\"<<endl;\n",
    "    }\n",
    "};\n",
    "class PowerDevice{\n",
    "    public:\n",
    "    void powerUp(){\n",
    "        cout<<\"mp3 player 을 위한 Power를 공급합니다\"<<endl;\n",
    "    }\n",
    "};\n",
    "class Memory{\n",
    "    public:\n",
    "    void expand(){\n",
    "        cout<<\"mp3 play를 위한 메모리를 확보합니다.\"<<endl;\n",
    "    }\n",
    "};\n",
    "class MP3{\n",
    "    public:\n",
    "    void play(){\n",
    "        cout<<\"mp3를 play합니다\"<<endl;\n",
    "    }\n",
    "};"
   ]
  },
  {
   "cell_type": "code",
   "execution_count": null,
   "metadata": {},
   "outputs": [],
   "source": [
    "int Tester(){\n",
    "    PowerDevice pd;\n",
    "    Memory my;\n",
    "    File fl;\n",
    "    MP3 mp;\n",
    "    pd.powerUp();\n",
    "    my.expand();\n",
    "    fl.loader();\n",
    "    mp.play();\n",
    "    return 0;\n",
    "}"
   ]
  },
  {
   "cell_type": "code",
   "execution_count": null,
   "metadata": {},
   "outputs": [],
   "source": [
    "Tester();"
   ]
  },
  {
   "cell_type": "markdown",
   "metadata": {},
   "source": [
    "#생성자란 객채의 생존주기중 첫 번째 단계로, 객체가 생성될 때 동시에 오출되는 함수를 의미함\n",
    "#.생성자를 새로 정의할 경우 Defalut 생성자가 사라지기에 새로 정의해야한다."
   ]
  },
  {
   "cell_type": "code",
   "execution_count": 1,
   "metadata": {},
   "outputs": [],
   "source": [
    "#include <iostream>\n",
    "#include <string>\n",
    "using namespace std;\n",
    "class Chulsoo{\n",
    "    private :\n",
    "    int age;\n",
    "    public:\n",
    "    Chulsoo(int age){\n",
    "        cout<<\"Chulsoo:: Chulsoo(age) 생성자 시작\"<<endl;\n",
    "        this->age=age;\n",
    "        cout<<\"Chulsoo::Chulsoo(age) 생성자 완료\"<<endl;\n",
    "    }\n",
    "    Chulsoo(){\n",
    "        cout<<\"Chulsoo::Chulsoo()생성자 시작/완료\"<<endl;\n",
    "    }\n",
    "};\n",
    "class DailyLife{\n",
    "    private:\n",
    "    Chulsoo chulsoo;\n",
    "    public:\n",
    "    DailyLife(Chulsoo chulsooObject){\n",
    "        cout<<\"DailyLife::DailyLife(Chulsooobject) 생성자 시작\"<<endl;\n",
    "        this->chulsoo = chulsooObject;\n",
    "        cout<<\"DailyLife::DailyLife(Chulsooobject) 생성자 완료\"<<endl;\n",
    "    }\n",
    "    DailyLife(){\n",
    "        cout<<\"DailyLife::DailyLife()생성자 시작/완료\"<<endl;\n",
    "    }\n",
    "}"
   ]
  },
  {
   "cell_type": "code",
   "execution_count": 2,
   "metadata": {},
   "outputs": [],
   "source": [
    "int Simulator(void){\n",
    "    Chulsoo chulsoo(3);\n",
    "    DailyLife dailylife(chulsoo);\n",
    "    return 0;\n",
    "}"
   ]
  },
  {
   "cell_type": "code",
   "execution_count": 3,
   "metadata": {},
   "outputs": [
    {
     "name": "stderr",
     "output_type": "stream",
     "text": [
      "\u001b[1minput_line_10:2:27: \u001b[0m\u001b[0;1;35mwarning: \u001b[0m\u001b[1mempty parentheses interpreted as a function declaration [-Wvexing-parse]\u001b[0m\n",
      "    Chulsoo chulsoodefault();\n",
      "\u001b[0;1;32m                          ^~\n",
      "\u001b[0m\u001b[1minput_line_10:2:27: \u001b[0m\u001b[0;1;30mnote: \u001b[0mremove parentheses to declare a variable\u001b[0m\n",
      "    Chulsoo chulsoodefault();\n",
      "\u001b[0;1;32m                          ^~\n",
      "\u001b[0m\u001b[1minput_line_10:3:31: \u001b[0m\u001b[0;1;35mwarning: \u001b[0m\u001b[1mempty parentheses interpreted as a function declaration [-Wvexing-parse]\u001b[0m\n",
      "    DailyLife DailyLifedefault();\n",
      "\u001b[0;1;32m                              ^~\n",
      "\u001b[0m\u001b[1minput_line_10:3:31: \u001b[0m\u001b[0;1;30mnote: \u001b[0mremove parentheses to declare a variable\u001b[0m\n",
      "    DailyLife DailyLifedefault();\n",
      "\u001b[0;1;32m                              ^~\n",
      "\u001b[0m"
     ]
    }
   ],
   "source": [
    "int defaultsimulator(void){\n",
    "    Chulsoo chulsoodefault();\n",
    "    DailyLife DailyLifedefault();\n",
    "    return 0;\n",
    "}"
   ]
  },
  {
   "cell_type": "code",
   "execution_count": 4,
   "metadata": {},
   "outputs": [
    {
     "name": "stdout",
     "output_type": "stream",
     "text": [
      "Chulsoo:: Chulsoo(age) 생성자 시작\n",
      "Chulsoo::Chulsoo(age) 생성자 완료\n",
      "Chulsoo::Chulsoo()생성자 시작/완료\n",
      "DailyLife::DailyLife(Chulsooobject) 생성자 시작\n",
      "DailyLife::DailyLife(Chulsooobject) 생성자 완료\n"
     ]
    }
   ],
   "source": [
    "Simulator();"
   ]
  },
  {
   "cell_type": "code",
   "execution_count": 5,
   "metadata": {},
   "outputs": [],
   "source": [
    "defaultsimulator();"
   ]
  },
  {
   "cell_type": "markdown",
   "metadata": {},
   "source": [
    "#.객체 생성 시 선 공간할당이 이루어진다 ( 변수에 dailylife 에 있는 default 생성자 호출됨 ). 이후 Dailylife의 생성자가 호출됨"
   ]
  },
  {
   "cell_type": "code",
   "execution_count": 1,
   "metadata": {},
   "outputs": [],
   "source": [
    "#include <iostream>\n",
    "#include <string>\n",
    "using namespace std;\n",
    "class Chulsoo{\n",
    "    private :\n",
    "    int age;\n",
    "    public:\n",
    "    Chulsoo(int age){\n",
    "        cout<<\"Chulsoo:: Chulsoo(age) 생성자 시작\"<<endl;\n",
    "        this->age=age;\n",
    "        cout<<\"Chulsoo::Chulsoo(age) 생성자 완료\"<<endl;\n",
    "    }\n",
    "    Chulsoo(){\n",
    "        cout<<\"Chulsoo::Chulsoo()생성자 시작/완료\"<<endl;\n",
    "    }\n",
    "};\n",
    "class DailyLife{\n",
    "    private:\n",
    "    Chulsoo chulsoo;\n",
    "    public:\n",
    "    DailyLife(int age):chulsoo(age){\n",
    "        cout<<\"DailyLife::DailyLife(Chulsooobject) 생성자 시작\"<<endl;\n",
    "        cout<<\"DailyLife::DailyLife(Chulsooobject) 생성자 완료\"<<endl;\n",
    "    }\n",
    "    DailyLife(){\n",
    "        cout<<\"DailyLife::DailyLife()생성자 시작/완료\"<<endl;\n",
    "    }\n",
    "}"
   ]
  },
  {
   "cell_type": "code",
   "execution_count": 2,
   "metadata": {},
   "outputs": [],
   "source": [
    "int Simulator(void){\n",
    "    DailyLife dailylife(18);\n",
    "    return 0;\n",
    "}"
   ]
  },
  {
   "cell_type": "code",
   "execution_count": 3,
   "metadata": {},
   "outputs": [
    {
     "name": "stdout",
     "output_type": "stream",
     "text": [
      "Chulsoo:: Chulsoo(age) 생성자 시작\n",
      "Chulsoo::Chulsoo(age) 생성자 완료\n",
      "DailyLife::DailyLife(Chulsooobject) 생성자 시작\n",
      "DailyLife::DailyLife(Chulsooobject) 생성자 완료\n"
     ]
    }
   ],
   "source": [
    "Simulator();"
   ]
  },
  {
   "cell_type": "markdown",
   "metadata": {},
   "source": [
    "#. 이렇게 생성자에 private 객체들의 생성자를 사용하면 memory 할당시 default 생성자가 호출되지 않고 바로 생성됨\n",
    "#. 이 위 예제와 같은 방식은 default복사 생성자를 사용하는 방법임"
   ]
  },
  {
   "cell_type": "markdown",
   "metadata": {},
   "source": [
    "#. C 방식에서 동적 메모리할당은 malloc(), free\n",
    "#. C++ 방식에서 동적 메모리 할당은 new, delete\n",
    "#. example char*name\n",
    "#.               this -> name = new char[strlen(name)+1];\n",
    "#.               delete[] name;"
   ]
  },
  {
   "cell_type": "code",
   "execution_count": null,
   "metadata": {},
   "outputs": [],
   "source": []
  }
 ],
 "metadata": {
  "kernelspec": {
   "display_name": "C++11",
   "language": "C++11",
   "name": "xeus-cling-cpp11"
  },
  "language_info": {
   "codemirror_mode": "text/x-c++src",
   "file_extension": ".cpp",
   "mimetype": "text/x-c++src",
   "name": "c++",
   "version": "11"
  }
 },
 "nbformat": 4,
 "nbformat_minor": 2
}
