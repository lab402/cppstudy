{
 "cells": [
  {
   "cell_type": "markdown",
   "metadata": {},
   "source": [
    "# 제 5장 인라인, 람다 함수\n",
    "```\n",
    "    inline 반환형 함수명(매개변수 목록);\n",
    "```\n",
    "일반 함수는 해당 함수로 jump하지만, 인라인은 전처리기가 해당 코드에 직접 삽입한다.\n",
    "\n",
    "장점: 오버헤드 감소로 빠르다.\n",
    "\n",
    "단점: 코드 크기가 커질 수 있다.\n",
    "\n",
    "중요한 특징: 컴파일러 옵션에 따라서 일반 함수 <-> 인라인 함수 변환 가능\n"
   ]
  },
  {
   "cell_type": "code",
   "execution_count": 1,
   "metadata": {},
   "outputs": [],
   "source": [
    "#include <iostream>\n",
    "using namespace std;"
   ]
  },
  {
   "cell_type": "code",
   "execution_count": 2,
   "metadata": {},
   "outputs": [],
   "source": [
    "class Chulsoo\n",
    "{\n",
    "public:\n",
    "    void Eat(int SteakWeight);\n",
    "    inline void EatInline(int Steakweight);\n",
    "}"
   ]
  },
  {
   "cell_type": "code",
   "execution_count": 3,
   "metadata": {},
   "outputs": [],
   "source": [
    "void Chulsoo::Eat(int SteakWeight)\n",
    "{\n",
    "    cout << \"Eat():: 철수는\" << SteakWeight << \"g 짜리 스테이크를 먹는다\" << endl;\n",
    "}"
   ]
  },
  {
   "cell_type": "code",
   "execution_count": 4,
   "metadata": {},
   "outputs": [],
   "source": [
    "inline void Chulsoo::EatInline(int SteakWeight)\n",
    "{\n",
    "    cout << \"EatInline() :: 철수는\" << SteakWeight << \"g 짜리 스테이크를 먹는다\" << endl;\n",
    "}"
   ]
  },
  {
   "cell_type": "code",
   "execution_count": 5,
   "metadata": {},
   "outputs": [],
   "source": [
    "int inlineFunction1 (void)\n",
    "{\n",
    "    Chulsoo chulsoo;\n",
    "    chulsoo.Eat(500);\n",
    "    chulsoo.EatInline(500);\n",
    "    return 0;\n",
    "}\n"
   ]
  },
  {
   "cell_type": "code",
   "execution_count": 6,
   "metadata": {},
   "outputs": [
    {
     "name": "stdout",
     "output_type": "stream",
     "text": [
      "Eat():: 철수는500g 짜리 스테이크를 먹는다\n",
      "EatInline() :: 철수는500g 짜리 스테이크를 먹는다\n"
     ]
    },
    {
     "data": {
      "text/plain": [
       "0"
      ]
     },
     "execution_count": 6,
     "metadata": {},
     "output_type": "execute_result"
    }
   ],
   "source": [
    "inlineFunction1()"
   ]
  },
  {
   "cell_type": "markdown",
   "metadata": {},
   "source": [
    "## 람다 함수\n",
    "```\n",
    "    [캡처] (매개변수 목록) mutable 예외목록 -> 반환형 {함수 내용} (입력);\n",
    "```\n",
    "* 캡처: 외부 변수 접근 방식\n",
    "   * '=': call by value\n",
    "   * '&': call by reference\n",
    "* mutable\n",
    "   * call by value로 외부 변수에 접근할 경우, const로 접근하기 때문에 람다 함수 내부에서는 외부 변수의 값 수정 불가.\n",
    "   * mutable 속성 추가 시, call by value 외부 변수의 값을 함수 내부에서 수정하며 사용 가능.\n",
    "-> 실제 외부 변수의 값은 유지되고, 함수 내부에서만 변경"
   ]
  },
  {
   "cell_type": "markdown",
   "metadata": {},
   "source": [
    "## 람다 함수의 캡처를 알아 보는 예제"
   ]
  },
  {
   "cell_type": "code",
   "execution_count": 7,
   "metadata": {},
   "outputs": [],
   "source": [
    "class Chulsoo2\n",
    "{\n",
    "public:\n",
    "    int count;\n",
    "}"
   ]
  },
  {
   "cell_type": "code",
   "execution_count": 8,
   "metadata": {},
   "outputs": [
    {
     "name": "stderr",
     "output_type": "stream",
     "text": [
      "\u001b[1minput_line_18:7:70: \u001b[0m\u001b[0;1;31merror: \u001b[0m\u001b[1mvariable 'chulsoo' cannot be implicitly captured in a lambda with no capture-default specified\u001b[0m\n",
      "        []   (int SteakWeight){cout << \"eatLambda() :: 철수는\" << chulsoo.count << \"번째 \" << SteakWeight << \"g 짜리 스테이크를 먹는다\" << ...\n",
      "\u001b[0;1;32m                                                                  ^\n",
      "\u001b[0m\u001b[1minput_line_18:3:14: \u001b[0m\u001b[0;1;30mnote: \u001b[0m'chulsoo' declared here\u001b[0m\n",
      "    Chulsoo2 chulsoo;\n",
      "\u001b[0;1;32m             ^\n",
      "\u001b[0m\u001b[1minput_line_18:7:9: \u001b[0m\u001b[0;1;30mnote: \u001b[0mlambda expression begins here\u001b[0m\n",
      "        []   (int SteakWeight){cout << \"eatLambda() :: 철수는\" << chulsoo.count << \"번째 \" << SteakWeight << \"g 짜리 스테이크를 먹는다\" << ...\n",
      "\u001b[0;1;32m        ^\n",
      "\u001b[0m"
     ]
    },
    {
     "ename": "Interpreter Error",
     "evalue": "",
     "output_type": "error",
     "traceback": [
      "Interpreter Error: "
     ]
    }
   ],
   "source": [
    "int lambda2()\n",
    "{\n",
    "    Chulsoo2 chulsoo;\n",
    "    chulsoo.count = 1;\n",
    "    for(int i=0; i<10; i++)\n",
    "    {\n",
    "        []   (int SteakWeight){cout << \"eatLambda() :: 철수는\" << chulsoo.count << \"번째 \" << SteakWeight << \"g 짜리 스테이크를 먹는다\" << endl;}(1000);\n",
    "    }\n",
    "    return 0;\n",
    "}"
   ]
  },
  {
   "cell_type": "markdown",
   "metadata": {},
   "source": [
    "이런식으로 캡처가 들어있지 않으면은 에러가 발생한다."
   ]
  },
  {
   "cell_type": "code",
   "execution_count": 9,
   "metadata": {},
   "outputs": [],
   "source": [
    "int lambda3()\n",
    "{\n",
    "    Chulsoo2 chulsoo;\n",
    "    chulsoo.count = 1;\n",
    "    for(int i=0; i<10; i++)\n",
    "    {\n",
    "        [=](int SteakWeight){cout << \"eatLambda() :: 철수는\" << chulsoo.count << \"번째 \" << SteakWeight << \"g 짜리 스테이크를 먹는다\" << endl;}(1000);\n",
    "    }\n",
    "    return 0;\n",
    "}"
   ]
  },
  {
   "cell_type": "code",
   "execution_count": 10,
   "metadata": {},
   "outputs": [
    {
     "name": "stdout",
     "output_type": "stream",
     "text": [
      "eatLambda() :: 철수는1번째 1000g 짜리 스테이크를 먹는다\n",
      "eatLambda() :: 철수는1번째 1000g 짜리 스테이크를 먹는다\n",
      "eatLambda() :: 철수는1번째 1000g 짜리 스테이크를 먹는다\n",
      "eatLambda() :: 철수는1번째 1000g 짜리 스테이크를 먹는다\n",
      "eatLambda() :: 철수는1번째 1000g 짜리 스테이크를 먹는다\n",
      "eatLambda() :: 철수는1번째 1000g 짜리 스테이크를 먹는다\n",
      "eatLambda() :: 철수는1번째 1000g 짜리 스테이크를 먹는다\n",
      "eatLambda() :: 철수는1번째 1000g 짜리 스테이크를 먹는다\n",
      "eatLambda() :: 철수는1번째 1000g 짜리 스테이크를 먹는다\n",
      "eatLambda() :: 철수는1번째 1000g 짜리 스테이크를 먹는다\n"
     ]
    },
    {
     "data": {
      "text/plain": [
       "0"
      ]
     },
     "execution_count": 10,
     "metadata": {},
     "output_type": "execute_result"
    }
   ],
   "source": [
    "lambda3()"
   ]
  },
  {
   "cell_type": "markdown",
   "metadata": {},
   "source": [
    "캡처가 들어있어도 생각하는데로 안된다."
   ]
  },
  {
   "cell_type": "code",
   "execution_count": 11,
   "metadata": {},
   "outputs": [
    {
     "name": "stderr",
     "output_type": "stream",
     "text": [
      "\u001b[1minput_line_22:7:81: \u001b[0m\u001b[0;1;31merror: \u001b[0m\u001b[1mread-only variable is not assignable\u001b[0m\n",
      "        [=](int SteakWeight){cout << \"eatLambda() :: 철수는\" << chulsoo.count++ << \"번째 \" << SteakWeight << \"g 짜리 스테이크를 먹는다\" << ...\n",
      "\u001b[0;1;32m                                                                ~~~~~~~~~~~~~^\n",
      "\u001b[0m"
     ]
    },
    {
     "ename": "Interpreter Error",
     "evalue": "",
     "output_type": "error",
     "traceback": [
      "Interpreter Error: "
     ]
    }
   ],
   "source": [
    "int lambda4()\n",
    "{\n",
    "    Chulsoo2 chulsoo;\n",
    "    chulsoo.count = 1;\n",
    "    for(int i=0; i<10; i++)\n",
    "    {\n",
    "        [=](int SteakWeight){cout << \"eatLambda() :: 철수는\" << chulsoo.count++ << \"번째 \" << SteakWeight << \"g 짜리 스테이크를 먹는다\" << endl;}(1000);\n",
    "    }\n",
    "    return 0;\n",
    "}"
   ]
  },
  {
   "cell_type": "markdown",
   "metadata": {},
   "source": [
    "이런식으로 read-only variable을 변경했다고 오류가 발생한다. \n",
    "\n",
    "따라서 이것을 바꾸려면 '=' 로 되어 잇는 캡처 방식을 '&'으로 바꾸어야 한다."
   ]
  },
  {
   "cell_type": "code",
   "execution_count": 12,
   "metadata": {},
   "outputs": [],
   "source": [
    "int lambda5()\n",
    "{\n",
    "    Chulsoo2 chulsoo;\n",
    "    chulsoo.count = 1;\n",
    "    for(int i=0; i<10; i++)\n",
    "    {\n",
    "        [&](int SteakWeight){cout << \"eatLambda() :: 철수는\" << chulsoo.count++ << \"번째 \" << SteakWeight << \"g 짜리 스테이크를 먹는다\" << endl;}(1000);\n",
    "    }\n",
    "    return 0;\n",
    "}"
   ]
  },
  {
   "cell_type": "code",
   "execution_count": 13,
   "metadata": {},
   "outputs": [
    {
     "name": "stdout",
     "output_type": "stream",
     "text": [
      "eatLambda() :: 철수는1번째 1000g 짜리 스테이크를 먹는다\n",
      "eatLambda() :: 철수는2번째 1000g 짜리 스테이크를 먹는다\n",
      "eatLambda() :: 철수는3번째 1000g 짜리 스테이크를 먹는다\n",
      "eatLambda() :: 철수는4번째 1000g 짜리 스테이크를 먹는다\n",
      "eatLambda() :: 철수는5번째 1000g 짜리 스테이크를 먹는다\n",
      "eatLambda() :: 철수는6번째 1000g 짜리 스테이크를 먹는다\n",
      "eatLambda() :: 철수는7번째 1000g 짜리 스테이크를 먹는다\n",
      "eatLambda() :: 철수는8번째 1000g 짜리 스테이크를 먹는다\n",
      "eatLambda() :: 철수는9번째 1000g 짜리 스테이크를 먹는다\n",
      "eatLambda() :: 철수는10번째 1000g 짜리 스테이크를 먹는다\n"
     ]
    },
    {
     "data": {
      "text/plain": [
       "0"
      ]
     },
     "execution_count": 13,
     "metadata": {},
     "output_type": "execute_result"
    }
   ],
   "source": [
    "lambda5()"
   ]
  },
  {
   "cell_type": "markdown",
   "metadata": {},
   "source": [
    "이렇게 하면 정상 작동한다. 나머지 람다 방식들도 있다.\n",
    "\n",
    "* \\[\\]: 람다 함수에서 외부 변수를 허용하지 않는다.\n",
    "* \\[a\\]: 외부 변수 a는 람다 함수 내에서 값으로 전달 받아 사용한다.(const이기 때문에 수정 불가)\n",
    "* \\[&a\\]: 외부 변수 a를 call by reference로 변경한다.\n",
    "* \\[=, &a, &b\\]: 외부 변수 a,b를 call by reference로 사용하고 나머지는 call by value로 사용한다.\n",
    "* \\[&, a, b\\]: 외부 변수 a,b를 call by value로 사용하고 나머지는 call by reference로 사용한다."
   ]
  },
  {
   "cell_type": "markdown",
   "metadata": {},
   "source": [
    "### Mutable 변수 사용 예졔"
   ]
  },
  {
   "cell_type": "code",
   "execution_count": 14,
   "metadata": {},
   "outputs": [],
   "source": [
    "int labmdaMutable()\n",
    "{\n",
    "    Chulsoo2 chulsoo;\n",
    "    chulsoo.count = 1;\n",
    "    for(int i=0; i<10; i++)\n",
    "    {\n",
    "        [=](int SteakWeight) mutable {cout << \"eatLambda() :: 철수는\" << chulsoo.count++ << \"번째 \" << SteakWeight << \"g 짜리 스테이크를 먹는다\" << endl;}(1000);\n",
    "    }\n",
    "    return 0;\n",
    "}"
   ]
  },
  {
   "cell_type": "code",
   "execution_count": 15,
   "metadata": {},
   "outputs": [
    {
     "name": "stdout",
     "output_type": "stream",
     "text": [
      "eatLambda() :: 철수는1번째 1000g 짜리 스테이크를 먹는다\n",
      "eatLambda() :: 철수는1번째 1000g 짜리 스테이크를 먹는다\n",
      "eatLambda() :: 철수는1번째 1000g 짜리 스테이크를 먹는다\n",
      "eatLambda() :: 철수는1번째 1000g 짜리 스테이크를 먹는다\n",
      "eatLambda() :: 철수는1번째 1000g 짜리 스테이크를 먹는다\n",
      "eatLambda() :: 철수는1번째 1000g 짜리 스테이크를 먹는다\n",
      "eatLambda() :: 철수는1번째 1000g 짜리 스테이크를 먹는다\n",
      "eatLambda() :: 철수는1번째 1000g 짜리 스테이크를 먹는다\n",
      "eatLambda() :: 철수는1번째 1000g 짜리 스테이크를 먹는다\n",
      "eatLambda() :: 철수는1번째 1000g 짜리 스테이크를 먹는다\n"
     ]
    },
    {
     "data": {
      "text/plain": [
       "0"
      ]
     },
     "execution_count": 15,
     "metadata": {},
     "output_type": "execute_result"
    }
   ],
   "source": [
    "labmdaMutable()"
   ]
  },
  {
   "cell_type": "markdown",
   "metadata": {},
   "source": [
    "mutable 변수의 예제 안에 값을 변경할수는 있지만, 참조로 값을 가져온것이 아니기 때문에 계속 값을 가져온다."
   ]
  },
  {
   "cell_type": "markdown",
   "metadata": {},
   "source": [
    "### 예외 목록 -> 14장에 계속함\n",
    "### 반환형 사용 예제"
   ]
  },
  {
   "cell_type": "code",
   "execution_count": 16,
   "metadata": {},
   "outputs": [],
   "source": [
    "int lambdaReturnType()\n",
    "{\n",
    "    Chulsoo2 chulsoo;\n",
    "    chulsoo.count = 1;\n",
    "    cout << [=](int SteakWeight) mutable->char {\n",
    "        cout << \"eatLambda() :: 철수는\" << chulsoo.count++ \n",
    "             << \"번째 \" << SteakWeight << \"g 짜리 스테이크를 먹는다\" << endl; return SteakWeight;}(67) << endl;\n",
    "    cout << [=](int SteakWeight) mutable->int {\n",
    "        cout << \"eatLambda() :: 철수는\" << chulsoo.count++ \n",
    "             << \"번째 \" << SteakWeight << \"g 짜리 스테이크를 먹는다\" << endl; return SteakWeight;}(67) << endl;\n",
    "    cout << [=](int SteakWeight) mutable {\n",
    "        cout << \"eatLambda() :: 철수는\" << chulsoo.count++\n",
    "             << \"번째 \" << SteakWeight << \"g 짜리 스테이크를 먹는다\" << endl; return SteakWeight;}(67) << endl;\n",
    "    return 0;\n",
    "}"
   ]
  },
  {
   "cell_type": "code",
   "execution_count": 17,
   "metadata": {},
   "outputs": [
    {
     "name": "stdout",
     "output_type": "stream",
     "text": [
      "eatLambda() :: 철수는1번째 67g 짜리 스테이크를 먹는다\n",
      "C\n",
      "eatLambda() :: 철수는1번째 67g 짜리 스테이크를 먹는다\n",
      "67\n",
      "eatLambda() :: 철수는1번째 67g 짜리 스테이크를 먹는다\n",
      "67\n"
     ]
    },
    {
     "data": {
      "text/plain": [
       "0"
      ]
     },
     "execution_count": 17,
     "metadata": {},
     "output_type": "execute_result"
    }
   ],
   "source": [
    "lambdaReturnType()"
   ]
  }
 ],
 "metadata": {
  "kernelspec": {
   "display_name": "C++14",
   "language": "C++14",
   "name": "xeus-cling-cpp14"
  },
  "language_info": {
   "codemirror_mode": "text/x-c++src",
   "file_extension": ".cpp",
   "mimetype": "text/x-c++src",
   "name": "c++",
   "version": "14"
  }
 },
 "nbformat": 4,
 "nbformat_minor": 2
}
