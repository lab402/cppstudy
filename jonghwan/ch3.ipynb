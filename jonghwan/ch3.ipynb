{
 "cells": [
  {
   "cell_type": "markdown",
   "metadata": {},
   "source": [
    "# 3장 C++ 기본문법 II"
   ]
  },
  {
   "cell_type": "code",
   "execution_count": 1,
   "metadata": {},
   "outputs": [],
   "source": [
    "#include <iostream>\n",
    "using namespace std;"
   ]
  },
  {
   "cell_type": "code",
   "execution_count": 2,
   "metadata": {},
   "outputs": [],
   "source": [
    "int reference2(void){\n",
    "    int val1 =100;\n",
    "    int &val2 = val1;\n",
    "//     int &val3 = 200;\n",
    "    int &val4 = val2;\n",
    "//     int &val5;\n",
    "    val1 = val1 * 3;\n",
    "    cout << \"val1 = \" << val1 << endl;\n",
    "    cout << \"val2 = \" << val2 << endl;\n",
    "    cout << \"val4 = \" << val4 << endl;\n",
    "    return 0;   \n",
    "}"
   ]
  },
  {
   "cell_type": "code",
   "execution_count": 3,
   "metadata": {},
   "outputs": [
    {
     "name": "stdout",
     "output_type": "stream",
     "text": [
      "val1 = 300\n",
      "val2 = 300\n",
      "val4 = 300\n"
     ]
    },
    {
     "data": {
      "text/plain": [
       "0"
      ]
     },
     "execution_count": 3,
     "metadata": {},
     "output_type": "execute_result"
    }
   ],
   "source": [
    "reference2()"
   ]
  },
  {
   "cell_type": "markdown",
   "metadata": {},
   "source": [
    "```cpp\n",
    "//     int &val3 = 200;\n",
    "```\n",
    "의 경우 값을 변수의 symbol로 지정해주어야 하는데, 상수를 대입하여 컴파일 오류 발생\n",
    "```cpp\n",
    "//     int &val3 = 200;\n",
    "```\n",
    "의 경우 값을 변수의 symbol로 지정해주어야 하는데, 상수를 대입하여 컴파일 오류 발생"
   ]
  },
  {
   "cell_type": "markdown",
   "metadata": {},
   "source": [
    "# 별칭으로 변수 선언\n",
    "* 별칭 사용 using  \n",
    "* auto형 변수"
   ]
  },
  {
   "cell_type": "markdown",
   "metadata": {},
   "source": [
    "### using 을 이용한 형 정의 및 변수 선언"
   ]
  },
  {
   "cell_type": "code",
   "execution_count": 4,
   "metadata": {},
   "outputs": [],
   "source": [
    "int typealias(void){\n",
    "    using salary = double; // double형을 salary 형으로 별칭(alias 사용)\n",
    "    using point = int;\n",
    "    salary sangwon = 125.20; //salary 형으로 변수 선언\n",
    "    salary peter = 100.12;\n",
    "    return 0;\n",
    "}"
   ]
  },
  {
   "cell_type": "code",
   "execution_count": 5,
   "metadata": {},
   "outputs": [
    {
     "data": {
      "text/plain": [
       "0"
      ]
     },
     "execution_count": 5,
     "metadata": {},
     "output_type": "execute_result"
    }
   ],
   "source": [
    "typealias()"
   ]
  },
  {
   "cell_type": "markdown",
   "metadata": {},
   "source": [
    "### auto형 변수를 이용한 변수 선언"
   ]
  },
  {
   "cell_type": "code",
   "execution_count": 6,
   "metadata": {},
   "outputs": [],
   "source": [
    "int autotype(void){\n",
    "    int n = 2;\n",
    "    float f = 2.3;\n",
    "    auto answer1 = n;\n",
    "    auto answer2 = f;\n",
    "    auto answer3 = n + f;\n",
    "    std::cout << answer3 << std::endl;\n",
    "    return 0;\n",
    "}"
   ]
  },
  {
   "cell_type": "code",
   "execution_count": 7,
   "metadata": {},
   "outputs": [
    {
     "name": "stdout",
     "output_type": "stream",
     "text": [
      "4.3\n"
     ]
    },
    {
     "data": {
      "text/plain": [
       "0"
      ]
     },
     "execution_count": 7,
     "metadata": {},
     "output_type": "execute_result"
    }
   ],
   "source": [
    "autotype()"
   ]
  },
  {
   "cell_type": "markdown",
   "metadata": {},
   "source": [
    "### decltype형 변수를 이용한 변수 선언\n",
    "* decltype( foo() )\\[var\\] <- return type으로 결정\n",
    "* decltype( var1 )\\[var2\\] <- var1의 자료형으로 변수 선언\n",
    "* decltype( (var3 )\\[var4\\] <- - 이미 선언된 변수를 사용할때 레퍼런스 변수만을 이용"
   ]
  },
  {
   "cell_type": "code",
   "execution_count": null,
   "metadata": {},
   "outputs": [],
   "source": []
  }
 ],
 "metadata": {
  "kernelspec": {
   "display_name": "C++14",
   "language": "C++14",
   "name": "xeus-cling-cpp14"
  },
  "language_info": {
   "codemirror_mode": "text/x-c++src",
   "file_extension": ".cpp",
   "mimetype": "text/x-c++src",
   "name": "c++",
   "version": "14"
  }
 },
 "nbformat": 4,
 "nbformat_minor": 2
}
