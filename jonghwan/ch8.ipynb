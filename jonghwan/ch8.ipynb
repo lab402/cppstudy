{
 "cells": [
  {
   "cell_type": "markdown",
   "metadata": {},
   "source": [
    "# 제 8 장 friend, static, this 포인터\n",
    "* friend\n",
    "* static 멤버 변수\n",
    "* this 포인터"
   ]
  },
  {
   "cell_type": "code",
   "execution_count": 1,
   "metadata": {},
   "outputs": [],
   "source": [
    "#include <iostream>\n",
    "using namespace std;"
   ]
  },
  {
   "cell_type": "markdown",
   "metadata": {},
   "source": [
    "## 클래스의 friend 선언"
   ]
  },
  {
   "cell_type": "code",
   "execution_count": 2,
   "metadata": {},
   "outputs": [],
   "source": [
    "class Chulsoo;"
   ]
  },
  {
   "cell_type": "code",
   "execution_count": 3,
   "metadata": {},
   "outputs": [],
   "source": [
    "class Chulsoo2;"
   ]
  },
  {
   "cell_type": "code",
   "execution_count": 4,
   "metadata": {},
   "outputs": [],
   "source": [
    "class Younghee\n",
    "{\n",
    "private:\n",
    "    int age;\n",
    "public:\n",
    "    Younghee(int age): age(age)\n",
    "    {\n",
    "        cout << \"Younghee::Younghee(age) 생성자 완료\" << endl;\n",
    "    }\n",
    "    void introduce()\n",
    "    {\n",
    "        cout << \"영희 나이: \" << age << endl;\n",
    "    }\n",
    "    void whoIsOlder(const Chulsoo & chulsooObj);\n",
    "    void whoIsOlder2(const Chulsoo2 & chulsooObj);\n",
    "}"
   ]
  },
  {
   "cell_type": "code",
   "execution_count": 5,
   "metadata": {},
   "outputs": [],
   "source": [
    "class Chulsoo\n",
    "{\n",
    "private:\n",
    "    int age;\n",
    "public:\n",
    "    Chulsoo(int age): age(age)\n",
    "    {\n",
    "        cout << \"Chulsoo::chulsoo(age) 생성자 완료\" << endl;\n",
    "    }\n",
    "    void introduce()\n",
    "    {\n",
    "        cout << \"철수 나이: \" << age << endl;\n",
    "    }\n",
    "    friend class Younghee;\n",
    "}"
   ]
  },
  {
   "cell_type": "code",
   "execution_count": 6,
   "metadata": {},
   "outputs": [],
   "source": [
    "void Younghee::whoIsOlder(const Chulsoo & chulsooObj)\n",
    "{\n",
    "     //Chulsoo 클래스에 private 멤버 변수를 가져왔기 때문에 friend class를 선언하지 않으면은 오류가 발생한다.\n",
    "    cout << \"영희는 철수보다 \" << ((age > chulsooObj.age) ? \"나이가 많다\" : \"나이가 같거나 적다\" ) << endl;\n",
    "}"
   ]
  },
  {
   "cell_type": "code",
   "execution_count": 7,
   "metadata": {},
   "outputs": [],
   "source": [
    "int friendConcept()\n",
    "{\n",
    "    Chulsoo chulsoo1(32);\n",
    "    chulsoo1.introduce();\n",
    "    Younghee younghee1(35);\n",
    "    younghee1.introduce();\n",
    "    younghee1.whoIsOlder(chulsoo1);\n",
    "    return 0;\n",
    "}"
   ]
  },
  {
   "cell_type": "code",
   "execution_count": 8,
   "metadata": {},
   "outputs": [
    {
     "name": "stdout",
     "output_type": "stream",
     "text": [
      "Chulsoo::chulsoo(age) 생성자 완료\n",
      "철수 나이: 32\n",
      "Younghee::Younghee(age) 생성자 완료\n",
      "영희 나이: 35\n",
      "영희는 철수보다 나이가 많다\n"
     ]
    },
    {
     "data": {
      "text/plain": [
       "0"
      ]
     },
     "execution_count": 8,
     "metadata": {},
     "output_type": "execute_result"
    }
   ],
   "source": [
    "friendConcept()"
   ]
  },
  {
   "cell_type": "markdown",
   "metadata": {},
   "source": [
    "## 함수의 friend 선언"
   ]
  },
  {
   "cell_type": "code",
   "execution_count": 9,
   "metadata": {},
   "outputs": [],
   "source": [
    "class Chulsoo2\n",
    "{\n",
    "private:\n",
    "    int age;\n",
    "public:\n",
    "    Chulsoo2(int age): age(age)\n",
    "    {\n",
    "        cout << \"Chulsoo::Chulsoo(age) 생성자 완료\" << endl;\n",
    "    }\n",
    "    void introduce()\n",
    "    {\n",
    "        cout << \"철수 나이: \" << age << endl;\n",
    "    }\n",
    "    friend void Younghee::whoIsOlder2(const Chulsoo2 & chulsooObj);\n",
    "};"
   ]
  },
  {
   "cell_type": "code",
   "execution_count": 10,
   "metadata": {},
   "outputs": [],
   "source": [
    "void Younghee::whoIsOlder2(const Chulsoo2 & chulsooObj)\n",
    "{\n",
    "     //Chulsoo 클래스에 private 멤버 변수를 가져왔기 때문에 friend class를 선언하지 않으면은 오류가 발생한다.\n",
    "    cout << \"영희는 철수보다 \" << ((age > chulsooObj.age) ? \"나이가 많다\" : \"나이가 같거나 적다\" ) << endl;\n",
    "}"
   ]
  },
  {
   "cell_type": "code",
   "execution_count": 12,
   "metadata": {},
   "outputs": [],
   "source": [
    "int friendConcept2()\n",
    "{\n",
    "    Chulsoo2 chulsoo1(32);\n",
    "    chulsoo1.introduce();\n",
    "    Younghee younghee1(35);\n",
    "    younghee1.introduce();\n",
    "    younghee1.whoIsOlder2(chulsoo1);\n",
    "    return 0;\n",
    "}"
   ]
  },
  {
   "cell_type": "code",
   "execution_count": 13,
   "metadata": {},
   "outputs": [
    {
     "name": "stdout",
     "output_type": "stream",
     "text": [
      "Chulsoo::Chulsoo(age) 생성자 완료\n",
      "철수 나이: 32\n",
      "Younghee::Younghee(age) 생성자 완료\n",
      "영희 나이: 35\n",
      "영희는 철수보다 나이가 많다\n"
     ]
    },
    {
     "data": {
      "text/plain": [
       "0"
      ]
     },
     "execution_count": 13,
     "metadata": {},
     "output_type": "execute_result"
    }
   ],
   "source": [
    "friendConcept2()"
   ]
  },
  {
   "cell_type": "markdown",
   "metadata": {},
   "source": [
    "## static 멤버 변수"
   ]
  },
  {
   "cell_type": "code",
   "execution_count": null,
   "metadata": {},
   "outputs": [],
   "source": []
  }
 ],
 "metadata": {
  "kernelspec": {
   "display_name": "C++14",
   "language": "C++14",
   "name": "xeus-cling-cpp14"
  },
  "language_info": {
   "codemirror_mode": "text/x-c++src",
   "file_extension": ".cpp",
   "mimetype": "text/x-c++src",
   "name": "c++",
   "version": "14"
  }
 },
 "nbformat": 4,
 "nbformat_minor": 2
}
